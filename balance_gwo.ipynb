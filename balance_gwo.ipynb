{
 "cells": [
  {
   "cell_type": "code",
   "execution_count": 1,
   "metadata": {},
   "outputs": [],
   "source": [
    "class solution:\n",
    "    def __init__(self):\n",
    "        self.best = 0\n",
    "        self.bestIndividual=[]\n",
    "        self.convergence = []\n",
    "        self.optimizer=\"\"\n",
    "        self.objfname=\"\"\n",
    "        self.startTime=0\n",
    "        self.endTime=0\n",
    "        self.executionTime=0\n",
    "        self.lb=0\n",
    "        self.ub=0\n",
    "        self.dim=0\n",
    "        self.popnum=0\n",
    "        self.maxiers=0\n",
    "        self.no_of_iterations=0"
   ]
  },
  {
   "cell_type": "code",
   "execution_count": 2,
   "metadata": {},
   "outputs": [],
   "source": [
    "def dis(z,c):\n",
    "    sum=0\n",
    "    for i in range(len(z)):\n",
    "        sum=sum+(z[i]-c[i])**2\n",
    "    return sum"
   ]
  },
  {
   "cell_type": "code",
   "execution_count": 3,
   "metadata": {},
   "outputs": [],
   "source": [
    "def assign_cluster_label(data, centers):\n",
    "    cluster_labels = []\n",
    "    for point in data:\n",
    "        # compute distances between three cluster centers to a data point\n",
    "        distances = [dis(point, center) for center in centers]\n",
    "        # find which cluster is closest to the data point and assign the cluster  it\n",
    "        cluster_labels.append(distances.index(min(distances)))\n",
    "    return cluster_labels"
   ]
  },
  {
   "cell_type": "code",
   "execution_count": 4,
   "metadata": {},
   "outputs": [],
   "source": [
    "def gen_wolf(n_cluster,dim):\n",
    "    graywolf=[]\n",
    "    for j in range(n_cluster):\n",
    "        c=[]\n",
    "        for i in range(dim):\n",
    "            ub=x[i].max()\n",
    "            lb=x[i].min()\n",
    "            c.append(np.random.uniform(0,1) *(ub-lb)+lb)\n",
    "        graywolf.append(c)\n",
    "    return np.array(graywolf)"
   ]
  },
  {
   "cell_type": "code",
   "execution_count": 5,
   "metadata": {},
   "outputs": [],
   "source": [
    "def init_pop(n_pop,n_cluster,dim):\n",
    "    init_pop=[]\n",
    "    for i in range (n_pop):\n",
    "        #index = np.random.choice(list(range(len(x))), 3)\n",
    "        z=gen_wolf(n_cluster,dim)\n",
    "        \n",
    "        init_pop.append(np.array(z))\n",
    "    return np.array(init_pop)"
   ]
  },
  {
   "cell_type": "code",
   "execution_count": 6,
   "metadata": {},
   "outputs": [],
   "source": [
    "from math import sqrt\n",
    "def dist_f(z,c):\n",
    "\n",
    "    sum=0\n",
    "    for i in range(len(z)):\n",
    "        sum=sum+(z[i]-c[i])**2\n",
    "    return sqrt(sum)"
   ]
  },
  {
   "cell_type": "code",
   "execution_count": 7,
   "metadata": {},
   "outputs": [],
   "source": [
    "def fitness(data,Positions,current_labels,i):\n",
    "    #fitnesses=[]\n",
    "    \n",
    "    #for i in range(len(gw)):\n",
    "        \n",
    "    bank=0\n",
    "    for j in range(len(Positions[i])):\n",
    "        for k in range(len(current_labels)):\n",
    "                \n",
    "            if current_labels[k]==j:\n",
    "                bank =bank + dist_f(data[k],Positions[i][j])\n",
    "        #fitnesses.append(bank)\n",
    "        \n",
    "    return bank"
   ]
  },
  {
   "cell_type": "code",
   "execution_count": 9,
   "metadata": {},
   "outputs": [],
   "source": [
    "import pandas as pd\n",
    "\n",
    "df = pd.read_csv('balance-scale.data')\n",
    "points = df.values"
   ]
  },
  {
   "cell_type": "code",
   "execution_count": 10,
   "metadata": {},
   "outputs": [
    {
     "data": {
      "text/plain": [
       "array([['R', 1, 1, 1, 2],\n",
       "       ['R', 1, 1, 1, 3],\n",
       "       ['R', 1, 1, 1, 4],\n",
       "       ...,\n",
       "       ['L', 5, 5, 5, 3],\n",
       "       ['L', 5, 5, 5, 4],\n",
       "       ['B', 5, 5, 5, 5]], dtype=object)"
      ]
     },
     "execution_count": 10,
     "metadata": {},
     "output_type": "execute_result"
    }
   ],
   "source": [
    "points"
   ]
  },
  {
   "cell_type": "code",
   "execution_count": 11,
   "metadata": {},
   "outputs": [],
   "source": [
    "seeds=pd.DataFrame(points)"
   ]
  },
  {
   "cell_type": "code",
   "execution_count": 13,
   "metadata": {},
   "outputs": [
    {
     "data": {
      "text/plain": [
       "array([2, 3, 4, 5, 1, 2, 3, 4, 5, 1, 2, 3, 4, 5, 1, 2, 3, 4, 5, 1, 2, 3,\n",
       "       4, 5, 1, 2, 3, 4, 5, 1, 2, 3, 4, 5, 1, 2, 3, 4, 5, 1, 2, 3, 4, 5,\n",
       "       1, 2, 3, 4, 5, 1, 2, 3, 4, 5, 1, 2, 3, 4, 5, 1, 2, 3, 4, 5, 1, 2,\n",
       "       3, 4, 5, 1, 2, 3, 4, 5, 1, 2, 3, 4, 5, 1, 2, 3, 4, 5, 1, 2, 3, 4,\n",
       "       5, 1, 2, 3, 4, 5, 1, 2, 3, 4, 5, 1, 2, 3, 4, 5, 1, 2, 3, 4, 5, 1,\n",
       "       2, 3, 4, 5, 1, 2, 3, 4, 5, 1, 2, 3, 4, 5, 1, 2, 3, 4, 5, 1, 2, 3,\n",
       "       4, 5, 1, 2, 3, 4, 5, 1, 2, 3, 4, 5, 1, 2, 3, 4, 5, 1, 2, 3, 4, 5,\n",
       "       1, 2, 3, 4, 5, 1, 2, 3, 4, 5, 1, 2, 3, 4, 5, 1, 2, 3, 4, 5, 1, 2,\n",
       "       3, 4, 5, 1, 2, 3, 4, 5, 1, 2, 3, 4, 5, 1, 2, 3, 4, 5, 1, 2, 3, 4,\n",
       "       5, 1, 2, 3, 4, 5, 1, 2, 3, 4, 5, 1, 2, 3, 4, 5, 1, 2, 3, 4, 5, 1,\n",
       "       2, 3, 4, 5, 1, 2, 3, 4, 5, 1, 2, 3, 4, 5, 1, 2, 3, 4, 5, 1, 2, 3,\n",
       "       4, 5, 1, 2, 3, 4, 5, 1, 2, 3, 4, 5, 1, 2, 3, 4, 5, 1, 2, 3, 4, 5,\n",
       "       1, 2, 3, 4, 5, 1, 2, 3, 4, 5, 1, 2, 3, 4, 5, 1, 2, 3, 4, 5, 1, 2,\n",
       "       3, 4, 5, 1, 2, 3, 4, 5, 1, 2, 3, 4, 5, 1, 2, 3, 4, 5, 1, 2, 3, 4,\n",
       "       5, 1, 2, 3, 4, 5, 1, 2, 3, 4, 5, 1, 2, 3, 4, 5, 1, 2, 3, 4, 5, 1,\n",
       "       2, 3, 4, 5, 1, 2, 3, 4, 5, 1, 2, 3, 4, 5, 1, 2, 3, 4, 5, 1, 2, 3,\n",
       "       4, 5, 1, 2, 3, 4, 5, 1, 2, 3, 4, 5, 1, 2, 3, 4, 5, 1, 2, 3, 4, 5,\n",
       "       1, 2, 3, 4, 5, 1, 2, 3, 4, 5, 1, 2, 3, 4, 5, 1, 2, 3, 4, 5, 1, 2,\n",
       "       3, 4, 5, 1, 2, 3, 4, 5, 1, 2, 3, 4, 5, 1, 2, 3, 4, 5, 1, 2, 3, 4,\n",
       "       5, 1, 2, 3, 4, 5, 1, 2, 3, 4, 5, 1, 2, 3, 4, 5, 1, 2, 3, 4, 5, 1,\n",
       "       2, 3, 4, 5, 1, 2, 3, 4, 5, 1, 2, 3, 4, 5, 1, 2, 3, 4, 5, 1, 2, 3,\n",
       "       4, 5, 1, 2, 3, 4, 5, 1, 2, 3, 4, 5, 1, 2, 3, 4, 5, 1, 2, 3, 4, 5,\n",
       "       1, 2, 3, 4, 5, 1, 2, 3, 4, 5, 1, 2, 3, 4, 5, 1, 2, 3, 4, 5, 1, 2,\n",
       "       3, 4, 5, 1, 2, 3, 4, 5, 1, 2, 3, 4, 5, 1, 2, 3, 4, 5, 1, 2, 3, 4,\n",
       "       5, 1, 2, 3, 4, 5, 1, 2, 3, 4, 5, 1, 2, 3, 4, 5, 1, 2, 3, 4, 5, 1,\n",
       "       2, 3, 4, 5, 1, 2, 3, 4, 5, 1, 2, 3, 4, 5, 1, 2, 3, 4, 5, 1, 2, 3,\n",
       "       4, 5, 1, 2, 3, 4, 5, 1, 2, 3, 4, 5, 1, 2, 3, 4, 5, 1, 2, 3, 4, 5,\n",
       "       1, 2, 3, 4, 5, 1, 2, 3, 4, 5, 1, 2, 3, 4, 5, 1, 2, 3, 4, 5, 1, 2,\n",
       "       3, 4, 5, 1, 2, 3, 4, 5], dtype=object)"
      ]
     },
     "execution_count": 13,
     "metadata": {},
     "output_type": "execute_result"
    }
   ],
   "source": [
    "points[:,-1]"
   ]
  },
  {
   "cell_type": "code",
   "execution_count": 23,
   "metadata": {},
   "outputs": [],
   "source": [
    "x=points[:,1:5]"
   ]
  },
  {
   "cell_type": "code",
   "execution_count": 24,
   "metadata": {},
   "outputs": [],
   "source": [
    "x=pd.DataFrame(x)"
   ]
  },
  {
   "cell_type": "code",
   "execution_count": 25,
   "metadata": {},
   "outputs": [
    {
     "data": {
      "text/html": [
       "<div>\n",
       "<style scoped>\n",
       "    .dataframe tbody tr th:only-of-type {\n",
       "        vertical-align: middle;\n",
       "    }\n",
       "\n",
       "    .dataframe tbody tr th {\n",
       "        vertical-align: top;\n",
       "    }\n",
       "\n",
       "    .dataframe thead th {\n",
       "        text-align: right;\n",
       "    }\n",
       "</style>\n",
       "<table border=\"1\" class=\"dataframe\">\n",
       "  <thead>\n",
       "    <tr style=\"text-align: right;\">\n",
       "      <th></th>\n",
       "      <th>0</th>\n",
       "      <th>1</th>\n",
       "      <th>2</th>\n",
       "      <th>3</th>\n",
       "    </tr>\n",
       "  </thead>\n",
       "  <tbody>\n",
       "    <tr>\n",
       "      <td>0</td>\n",
       "      <td>1</td>\n",
       "      <td>1</td>\n",
       "      <td>1</td>\n",
       "      <td>2</td>\n",
       "    </tr>\n",
       "    <tr>\n",
       "      <td>1</td>\n",
       "      <td>1</td>\n",
       "      <td>1</td>\n",
       "      <td>1</td>\n",
       "      <td>3</td>\n",
       "    </tr>\n",
       "    <tr>\n",
       "      <td>2</td>\n",
       "      <td>1</td>\n",
       "      <td>1</td>\n",
       "      <td>1</td>\n",
       "      <td>4</td>\n",
       "    </tr>\n",
       "    <tr>\n",
       "      <td>3</td>\n",
       "      <td>1</td>\n",
       "      <td>1</td>\n",
       "      <td>1</td>\n",
       "      <td>5</td>\n",
       "    </tr>\n",
       "    <tr>\n",
       "      <td>4</td>\n",
       "      <td>1</td>\n",
       "      <td>1</td>\n",
       "      <td>2</td>\n",
       "      <td>1</td>\n",
       "    </tr>\n",
       "    <tr>\n",
       "      <td>...</td>\n",
       "      <td>...</td>\n",
       "      <td>...</td>\n",
       "      <td>...</td>\n",
       "      <td>...</td>\n",
       "    </tr>\n",
       "    <tr>\n",
       "      <td>619</td>\n",
       "      <td>5</td>\n",
       "      <td>5</td>\n",
       "      <td>5</td>\n",
       "      <td>1</td>\n",
       "    </tr>\n",
       "    <tr>\n",
       "      <td>620</td>\n",
       "      <td>5</td>\n",
       "      <td>5</td>\n",
       "      <td>5</td>\n",
       "      <td>2</td>\n",
       "    </tr>\n",
       "    <tr>\n",
       "      <td>621</td>\n",
       "      <td>5</td>\n",
       "      <td>5</td>\n",
       "      <td>5</td>\n",
       "      <td>3</td>\n",
       "    </tr>\n",
       "    <tr>\n",
       "      <td>622</td>\n",
       "      <td>5</td>\n",
       "      <td>5</td>\n",
       "      <td>5</td>\n",
       "      <td>4</td>\n",
       "    </tr>\n",
       "    <tr>\n",
       "      <td>623</td>\n",
       "      <td>5</td>\n",
       "      <td>5</td>\n",
       "      <td>5</td>\n",
       "      <td>5</td>\n",
       "    </tr>\n",
       "  </tbody>\n",
       "</table>\n",
       "<p>624 rows × 4 columns</p>\n",
       "</div>"
      ],
      "text/plain": [
       "     0  1  2  3\n",
       "0    1  1  1  2\n",
       "1    1  1  1  3\n",
       "2    1  1  1  4\n",
       "3    1  1  1  5\n",
       "4    1  1  2  1\n",
       "..  .. .. .. ..\n",
       "619  5  5  5  1\n",
       "620  5  5  5  2\n",
       "621  5  5  5  3\n",
       "622  5  5  5  4\n",
       "623  5  5  5  5\n",
       "\n",
       "[624 rows x 4 columns]"
      ]
     },
     "execution_count": 25,
     "metadata": {},
     "output_type": "execute_result"
    }
   ],
   "source": [
    "x"
   ]
  },
  {
   "cell_type": "code",
   "execution_count": 26,
   "metadata": {},
   "outputs": [
    {
     "name": "stdout",
     "output_type": "stream",
     "text": [
      "5\n",
      "1\n",
      "---------------------\n",
      "5\n",
      "1\n",
      "---------------------\n",
      "5\n",
      "1\n",
      "---------------------\n"
     ]
    }
   ],
   "source": [
    "for i in range(3):\n",
    "    print(x[i].max())\n",
    "    print(x[i].min())\n",
    "    print(\"---------------------\")"
   ]
  },
  {
   "cell_type": "code",
   "execution_count": 30,
   "metadata": {},
   "outputs": [],
   "source": [
    "import random\n",
    "import numpy\n",
    "import math\n",
    "#from solution import solution\n",
    "import time\n",
    "\n",
    "\n",
    "    \n",
    "\n",
    "def GWO(Max_iter,SearchAgents_no,n_cluster,dim):\n",
    "    \n",
    "   \n",
    "    ggnn=0\n",
    "    data=np.array(x)\n",
    "\n",
    "    levy=np.zeros(SearchAgents_no)\n",
    "    \n",
    "    # initialize alpha, beta, and delta_pos\n",
    "    Alpha_pos=np.zeros((n_cluster,dim))\n",
    "    Alpha_score=float(\"inf\")\n",
    "    \n",
    "    Beta_pos=np.zeros((n_cluster,dim))\n",
    "    Beta_score=float(\"inf\")\n",
    "    \n",
    "    Delta_pos=np.zeros((n_cluster,dim))\n",
    "    Delta_score=float(\"inf\")\n",
    "    \n",
    "    #Initialize the positions of search agents\n",
    "    Positions=init_pop(SearchAgents_no,n_cluster,dim)\n",
    "    \n",
    "    Convergence_curve=numpy.zeros(Max_iter)\n",
    "    sol=solution()\n",
    "\n",
    "    # Loop counter\n",
    "    #print(\"GWO is optimizing  \\\"\"+objf.__name__+\"\\\"\")    \n",
    "    \n",
    "    timerStart=time.time() \n",
    "    sol.startTime=time.strftime(\"%Y-%m-%d-%H-%M-%S\")\n",
    "    \n",
    "    \n",
    "    #sol=solution()\n",
    "\n",
    "    # Loop counter\n",
    "    #print(\"GWO is optimizing  \\\"\"+objf.__name__+\"\\\"\")    \n",
    "    \n",
    "    #timerStart=time.time() \n",
    "    #sol.startTime=time.strftime(\"%Y-%m-%d-%H-%M-%S\")\n",
    "    # Main loop\n",
    "    for l in range(0,Max_iter):\n",
    "        for i in range(0,SearchAgents_no):\n",
    "            \n",
    "            # Return back the search agents that go beyond the boundaries of the search space\n",
    "            #Positions[i,:]=numpy.clip(Positions[i,:], lb, ub)\n",
    "\n",
    "            # Calculate objective function for each search agent\n",
    "            \n",
    "            current_centers=pd.DataFrame(Positions[i])\n",
    "            current_labels = assign_cluster_label(data,Positions[i])\n",
    "            current_centers.columns=['x','y','z','k']\n",
    "            fitness1=fitness(data,Positions,current_labels,i)\n",
    "            \n",
    "            # Update Alpha, Beta, and Delta\n",
    "            if fitness1<Alpha_score :\n",
    "                Alpha_score=fitness1; # Update alpha\n",
    "                Alpha_pos=Positions[i,:].copy()\n",
    "            \n",
    "            \n",
    "            if (fitness1>Alpha_score and fitness1<Beta_score ):\n",
    "                Beta_score=fitness1  # Update beta\n",
    "                Beta_pos=Positions[i,:].copy()\n",
    "            \n",
    "            \n",
    "            if (fitness1>Alpha_score and fitness1>Beta_score and fitness1<Delta_score): \n",
    "                Delta_score=fitness1 # Update delta\n",
    "                Delta_pos=Positions[i,:].copy()\n",
    "            \n",
    "        \n",
    "        #z=numpy.random.uniform()\n",
    "        #z=4*z*(1-z)\n",
    "        \n",
    "        \n",
    "        a=2-l*((2)/Max_iter); # a decreases linearly fron 2 to 0\n",
    "        \n",
    "        beta=0.5\n",
    "        sigma=(math.gamma(1+beta)*math.sin(math.pi*beta/2)/(math.gamma((1+beta)/2)*beta*2**((beta-1)/2)))**(1/beta);\n",
    "        \n",
    "        for i in range(0,SearchAgents_no):\n",
    "            for j in range (0,n_cluster):     \n",
    "                           \n",
    "                r1=random.random() # r1 is a random number in [0,1]\n",
    "                r2=random.random() # r2 is a random number in [0,1]\n",
    "                \n",
    "                A1=2*a*r1-a; # Equation (3.3)\n",
    "                C1=2*r2; # Equation (3.4)\n",
    "                \n",
    "                D_alpha=abs(C1*Alpha_pos[j]-Positions[i,j]); # Equation (3.5)-part 1\n",
    "                X1=Alpha_pos[j]-A1*D_alpha; # Equation (3.6)-part 1\n",
    "                           \n",
    "                r1=random.random()\n",
    "                r2=random.random()\n",
    "                \n",
    "                A2=2*a*r1-a; # Equation (3.3)\n",
    "                C2=2*r2; # Equation (3.4)\n",
    "                D_beta=abs(C2*Beta_pos[j]-Positions[i,j]); # Equation (3.5)-part 2\n",
    "                X2=Beta_pos[j]-A2*D_beta; # Equation (3.6)-part 2\n",
    "                \n",
    "                r1=random.random()\n",
    "                r2=random.random() \n",
    "                \n",
    "                A3=2*a*r1-a; # Equation (3.3)\n",
    "                C3=2*r2; # Equation (3.4)\n",
    "                \n",
    "                D_delta=abs(C3*Delta_pos[j]-Positions[i,j]); # Equation (3.5)-part 3\n",
    "                X3=Delta_pos[j]-A3*D_delta; # Equation (3.5)-part 3             \n",
    "                \n",
    "                Positions[i,j]=(X1+X2+X3)/3  # Equation (3.7)\n",
    "            \n",
    "            s=Positions[i,:]\n",
    "            \n",
    "            u=numpy.random.uniform(size=dim)*sigma\n",
    "            v=numpy.random.uniform(size=dim)\n",
    "            step=u*abs(v)**(1/beta)\n",
    "            stepsize=0.1*step*(s-Alpha_pos) #s-alpha_pos\n",
    "            s=s+stepsize*numpy.random.uniform(size=dim)\n",
    "            Positions[i]=s\n",
    "        Convergence_curve[l]=Alpha_score\n",
    "\n",
    "    timerEnd=time.time()  \n",
    "    sol.endTime=time.strftime(\"%Y-%m-%d-%H-%M-%S\")\n",
    "    sol.executionTime=timerEnd-timerStart\n",
    "    sol.convergence=Convergence_curve\n",
    "    sol.optimizer=\"GWO\"\n",
    "    \n",
    "    sol.no_of_iterations=l\n",
    "    \n",
    "    \n",
    "    \n",
    "    \n",
    "    print(Alpha_pos)\n",
    "    return Alpha_pos,current_labels,sol"
   ]
  },
  {
   "cell_type": "code",
   "execution_count": 31,
   "metadata": {},
   "outputs": [],
   "source": [
    "import numpy as np"
   ]
  },
  {
   "cell_type": "code",
   "execution_count": 32,
   "metadata": {},
   "outputs": [
    {
     "name": "stdout",
     "output_type": "stream",
     "text": [
      "[[1.99591987 2.9840364  2.2277786  2.25414128]\n",
      " [4.15166759 3.28404476 2.09569524 2.90408753]\n",
      " [3.58058518 3.04116013 4.09797895 3.51382109]]\n"
     ]
    }
   ],
   "source": [
    "egwo=GWO(Max_iter=100,SearchAgents_no=10,n_cluster=3,dim=4)"
   ]
  },
  {
   "cell_type": "code",
   "execution_count": 33,
   "metadata": {},
   "outputs": [],
   "source": [
    "current_centers=pd.DataFrame(egwo[0])"
   ]
  },
  {
   "cell_type": "code",
   "execution_count": 34,
   "metadata": {},
   "outputs": [],
   "source": [
    "current_centers.columns=['x','y','z','k']"
   ]
  },
  {
   "cell_type": "code",
   "execution_count": 35,
   "metadata": {},
   "outputs": [],
   "source": [
    "current_labels=egwo[1]"
   ]
  },
  {
   "cell_type": "code",
   "execution_count": 36,
   "metadata": {},
   "outputs": [],
   "source": [
    "data=np.array(x)\n",
    "data_df = pd.DataFrame(data)\n",
    "data_df.columns=['x','y','z','k']"
   ]
  },
  {
   "cell_type": "code",
   "execution_count": 37,
   "metadata": {},
   "outputs": [
    {
     "data": {
      "text/html": [
       "<div>\n",
       "<style scoped>\n",
       "    .dataframe tbody tr th:only-of-type {\n",
       "        vertical-align: middle;\n",
       "    }\n",
       "\n",
       "    .dataframe tbody tr th {\n",
       "        vertical-align: top;\n",
       "    }\n",
       "\n",
       "    .dataframe thead th {\n",
       "        text-align: right;\n",
       "    }\n",
       "</style>\n",
       "<table border=\"1\" class=\"dataframe\">\n",
       "  <thead>\n",
       "    <tr style=\"text-align: right;\">\n",
       "      <th></th>\n",
       "      <th>x</th>\n",
       "      <th>y</th>\n",
       "      <th>z</th>\n",
       "      <th>k</th>\n",
       "    </tr>\n",
       "  </thead>\n",
       "  <tbody>\n",
       "    <tr>\n",
       "      <td>0</td>\n",
       "      <td>1</td>\n",
       "      <td>1</td>\n",
       "      <td>1</td>\n",
       "      <td>2</td>\n",
       "    </tr>\n",
       "    <tr>\n",
       "      <td>1</td>\n",
       "      <td>1</td>\n",
       "      <td>1</td>\n",
       "      <td>1</td>\n",
       "      <td>3</td>\n",
       "    </tr>\n",
       "    <tr>\n",
       "      <td>2</td>\n",
       "      <td>1</td>\n",
       "      <td>1</td>\n",
       "      <td>1</td>\n",
       "      <td>4</td>\n",
       "    </tr>\n",
       "    <tr>\n",
       "      <td>3</td>\n",
       "      <td>1</td>\n",
       "      <td>1</td>\n",
       "      <td>1</td>\n",
       "      <td>5</td>\n",
       "    </tr>\n",
       "    <tr>\n",
       "      <td>4</td>\n",
       "      <td>1</td>\n",
       "      <td>1</td>\n",
       "      <td>2</td>\n",
       "      <td>1</td>\n",
       "    </tr>\n",
       "    <tr>\n",
       "      <td>...</td>\n",
       "      <td>...</td>\n",
       "      <td>...</td>\n",
       "      <td>...</td>\n",
       "      <td>...</td>\n",
       "    </tr>\n",
       "    <tr>\n",
       "      <td>619</td>\n",
       "      <td>5</td>\n",
       "      <td>5</td>\n",
       "      <td>5</td>\n",
       "      <td>1</td>\n",
       "    </tr>\n",
       "    <tr>\n",
       "      <td>620</td>\n",
       "      <td>5</td>\n",
       "      <td>5</td>\n",
       "      <td>5</td>\n",
       "      <td>2</td>\n",
       "    </tr>\n",
       "    <tr>\n",
       "      <td>621</td>\n",
       "      <td>5</td>\n",
       "      <td>5</td>\n",
       "      <td>5</td>\n",
       "      <td>3</td>\n",
       "    </tr>\n",
       "    <tr>\n",
       "      <td>622</td>\n",
       "      <td>5</td>\n",
       "      <td>5</td>\n",
       "      <td>5</td>\n",
       "      <td>4</td>\n",
       "    </tr>\n",
       "    <tr>\n",
       "      <td>623</td>\n",
       "      <td>5</td>\n",
       "      <td>5</td>\n",
       "      <td>5</td>\n",
       "      <td>5</td>\n",
       "    </tr>\n",
       "  </tbody>\n",
       "</table>\n",
       "<p>624 rows × 4 columns</p>\n",
       "</div>"
      ],
      "text/plain": [
       "     x  y  z  k\n",
       "0    1  1  1  2\n",
       "1    1  1  1  3\n",
       "2    1  1  1  4\n",
       "3    1  1  1  5\n",
       "4    1  1  2  1\n",
       "..  .. .. .. ..\n",
       "619  5  5  5  1\n",
       "620  5  5  5  2\n",
       "621  5  5  5  3\n",
       "622  5  5  5  4\n",
       "623  5  5  5  5\n",
       "\n",
       "[624 rows x 4 columns]"
      ]
     },
     "execution_count": 37,
     "metadata": {},
     "output_type": "execute_result"
    }
   ],
   "source": [
    "data_df"
   ]
  },
  {
   "cell_type": "code",
   "execution_count": 40,
   "metadata": {},
   "outputs": [],
   "source": [
    "x1=[]\n",
    "for i in range(100):\n",
    "    x1.append(i)"
   ]
  },
  {
   "cell_type": "code",
   "execution_count": 41,
   "metadata": {},
   "outputs": [
    {
     "data": {
      "image/png": "[encoded data removed]",
      "text/plain": [
       "<Figure size 432x288 with 1 Axes>"
      ]
     },
     "metadata": {
      "needs_background": "light"
     },
     "output_type": "display_data"
    }
   ],
   "source": [
    "plt.plot(x1,egwo[2].convergence,color=\"blue\")\n",
    "plt.xlabel(\"No. of iterations\")\n",
    "plt.ylabel(\"Fitness\")\n",
    "plt.savefig(\"enhanced_F1.png\")\n",
    "plt.show()"
   ]
  },
  {
   "cell_type": "code",
   "execution_count": null,
   "metadata": {},
   "outputs": [],
   "source": []
  }
 ],
 "metadata": {
  "kernelspec": {
   "display_name": "Python 3",
   "language": "python",
   "name": "python3"
  },
  "language_info": {
   "codemirror_mode": {
    "name": "ipython",
    "version": 3
   },
   "file_extension": ".py",
   "mimetype": "text/x-python",
   "name": "python",
   "nbconvert_exporter": "python",
   "pygments_lexer": "ipython3",
   "version": "3.7.4"
  }
 },
 "nbformat": 4,
 "nbformat_minor": 2
}
