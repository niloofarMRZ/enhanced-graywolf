{
 "cells": [
  {
   "cell_type": "code",
   "execution_count": 1,
   "metadata": {},
   "outputs": [],
   "source": [
    "class solution:\n",
    "    def __init__(self):\n",
    "        self.best = 0\n",
    "        self.bestIndividual=[]\n",
    "        self.convergence = []\n",
    "        self.optimizer=\"\"\n",
    "        self.objfname=\"\"\n",
    "        self.startTime=0\n",
    "        self.endTime=0\n",
    "        self.executionTime=0\n",
    "        self.lb=0\n",
    "        self.ub=0\n",
    "        self.dim=0\n",
    "        self.popnum=0\n",
    "        self.maxiers=0\n",
    "        self.no_of_iterations=0"
   ]
  },
  {
   "cell_type": "code",
   "execution_count": 2,
   "metadata": {},
   "outputs": [],
   "source": [
    "def dis(z,c):\n",
    "    sum=0\n",
    "    for i in range(len(z)):\n",
    "        sum=sum+(z[i]-c[i])**2\n",
    "    return sum"
   ]
  },
  {
   "cell_type": "code",
   "execution_count": 3,
   "metadata": {},
   "outputs": [],
   "source": [
    "def assign_cluster_label(data, centers):\n",
    "    cluster_labels = []\n",
    "    for point in data:\n",
    "        # compute distances between three cluster centers to a data point\n",
    "        distances = [dis(point, center) for center in centers]\n",
    "        # find which cluster is closest to the data point and assign the cluster  it\n",
    "        cluster_labels.append(distances.index(min(distances)))\n",
    "    return cluster_labels"
   ]
  },
  {
   "cell_type": "code",
   "execution_count": 4,
   "metadata": {},
   "outputs": [],
   "source": [
    "def gen_wolf(n_cluster,dim):\n",
    "    graywolf=[]\n",
    "    for j in range(n_cluster):\n",
    "        c=[]\n",
    "        for i in range(dim):\n",
    "            ub=x[i].max()\n",
    "            lb=x[i].min()\n",
    "            c.append(np.random.uniform(0,1) *(ub-lb)+lb)\n",
    "        graywolf.append(c)\n",
    "    return np.array(graywolf)"
   ]
  },
  {
   "cell_type": "code",
   "execution_count": 5,
   "metadata": {},
   "outputs": [],
   "source": [
    "def init_pop(n_pop,n_cluster,dim):\n",
    "    init_pop=[]\n",
    "    for i in range (n_pop):\n",
    "        #index = np.random.choice(list(range(len(x))), 3)\n",
    "        z=gen_wolf(n_cluster,dim)\n",
    "        \n",
    "        init_pop.append(np.array(z))\n",
    "    return np.array(init_pop)"
   ]
  },
  {
   "cell_type": "code",
   "execution_count": 6,
   "metadata": {},
   "outputs": [],
   "source": [
    "from math import sqrt\n",
    "def dist_f(z,c):\n",
    "\n",
    "    sum=0\n",
    "    for i in range(len(z)):\n",
    "        sum=sum+(z[i]-c[i])**2\n",
    "    return sqrt(sum)"
   ]
  },
  {
   "cell_type": "code",
   "execution_count": 7,
   "metadata": {},
   "outputs": [],
   "source": [
    "def fitness(data,Positions,current_labels,i):\n",
    "    #fitnesses=[]\n",
    "    \n",
    "    #for i in range(len(gw)):\n",
    "        \n",
    "    bank=0\n",
    "    for j in range(len(Positions[i])):\n",
    "        for k in range(len(current_labels)):\n",
    "                \n",
    "            if current_labels[k]==j:\n",
    "                bank =bank + dist_f(data[k],Positions[i][j])\n",
    "        #fitnesses.append(bank)\n",
    "        \n",
    "    return bank"
   ]
  },
  {
   "cell_type": "code",
   "execution_count": 8,
   "metadata": {},
   "outputs": [],
   "source": [
    "import pandas as pd\n",
    "import numpy as np\n",
    "from sklearn import datasets\n",
    "iris = datasets.load_iris()\n",
    "x=pd.DataFrame(iris.data)"
   ]
  },
  {
   "cell_type": "code",
   "execution_count": 9,
   "metadata": {},
   "outputs": [
    {
     "data": {
      "text/html": [
       "<div>\n",
       "<style scoped>\n",
       "    .dataframe tbody tr th:only-of-type {\n",
       "        vertical-align: middle;\n",
       "    }\n",
       "\n",
       "    .dataframe tbody tr th {\n",
       "        vertical-align: top;\n",
       "    }\n",
       "\n",
       "    .dataframe thead th {\n",
       "        text-align: right;\n",
       "    }\n",
       "</style>\n",
       "<table border=\"1\" class=\"dataframe\">\n",
       "  <thead>\n",
       "    <tr style=\"text-align: right;\">\n",
       "      <th></th>\n",
       "      <th>0</th>\n",
       "      <th>1</th>\n",
       "      <th>2</th>\n",
       "      <th>3</th>\n",
       "    </tr>\n",
       "  </thead>\n",
       "  <tbody>\n",
       "    <tr>\n",
       "      <td>0</td>\n",
       "      <td>5.1</td>\n",
       "      <td>3.5</td>\n",
       "      <td>1.4</td>\n",
       "      <td>0.2</td>\n",
       "    </tr>\n",
       "    <tr>\n",
       "      <td>1</td>\n",
       "      <td>4.9</td>\n",
       "      <td>3.0</td>\n",
       "      <td>1.4</td>\n",
       "      <td>0.2</td>\n",
       "    </tr>\n",
       "    <tr>\n",
       "      <td>2</td>\n",
       "      <td>4.7</td>\n",
       "      <td>3.2</td>\n",
       "      <td>1.3</td>\n",
       "      <td>0.2</td>\n",
       "    </tr>\n",
       "    <tr>\n",
       "      <td>3</td>\n",
       "      <td>4.6</td>\n",
       "      <td>3.1</td>\n",
       "      <td>1.5</td>\n",
       "      <td>0.2</td>\n",
       "    </tr>\n",
       "    <tr>\n",
       "      <td>4</td>\n",
       "      <td>5.0</td>\n",
       "      <td>3.6</td>\n",
       "      <td>1.4</td>\n",
       "      <td>0.2</td>\n",
       "    </tr>\n",
       "    <tr>\n",
       "      <td>...</td>\n",
       "      <td>...</td>\n",
       "      <td>...</td>\n",
       "      <td>...</td>\n",
       "      <td>...</td>\n",
       "    </tr>\n",
       "    <tr>\n",
       "      <td>145</td>\n",
       "      <td>6.7</td>\n",
       "      <td>3.0</td>\n",
       "      <td>5.2</td>\n",
       "      <td>2.3</td>\n",
       "    </tr>\n",
       "    <tr>\n",
       "      <td>146</td>\n",
       "      <td>6.3</td>\n",
       "      <td>2.5</td>\n",
       "      <td>5.0</td>\n",
       "      <td>1.9</td>\n",
       "    </tr>\n",
       "    <tr>\n",
       "      <td>147</td>\n",
       "      <td>6.5</td>\n",
       "      <td>3.0</td>\n",
       "      <td>5.2</td>\n",
       "      <td>2.0</td>\n",
       "    </tr>\n",
       "    <tr>\n",
       "      <td>148</td>\n",
       "      <td>6.2</td>\n",
       "      <td>3.4</td>\n",
       "      <td>5.4</td>\n",
       "      <td>2.3</td>\n",
       "    </tr>\n",
       "    <tr>\n",
       "      <td>149</td>\n",
       "      <td>5.9</td>\n",
       "      <td>3.0</td>\n",
       "      <td>5.1</td>\n",
       "      <td>1.8</td>\n",
       "    </tr>\n",
       "  </tbody>\n",
       "</table>\n",
       "<p>150 rows × 4 columns</p>\n",
       "</div>"
      ],
      "text/plain": [
       "       0    1    2    3\n",
       "0    5.1  3.5  1.4  0.2\n",
       "1    4.9  3.0  1.4  0.2\n",
       "2    4.7  3.2  1.3  0.2\n",
       "3    4.6  3.1  1.5  0.2\n",
       "4    5.0  3.6  1.4  0.2\n",
       "..   ...  ...  ...  ...\n",
       "145  6.7  3.0  5.2  2.3\n",
       "146  6.3  2.5  5.0  1.9\n",
       "147  6.5  3.0  5.2  2.0\n",
       "148  6.2  3.4  5.4  2.3\n",
       "149  5.9  3.0  5.1  1.8\n",
       "\n",
       "[150 rows x 4 columns]"
      ]
     },
     "execution_count": 9,
     "metadata": {},
     "output_type": "execute_result"
    }
   ],
   "source": [
    "x"
   ]
  },
  {
   "cell_type": "code",
   "execution_count": 10,
   "metadata": {},
   "outputs": [],
   "source": [
    "import random\n",
    "import numpy\n",
    "import math\n",
    "#from solution import solution\n",
    "import time\n",
    "\n",
    "\n",
    "    \n",
    "\n",
    "def GWO(Max_iter,SearchAgents_no,n_cluster,dim):\n",
    "    \n",
    "   \n",
    "    ggnn=0\n",
    "    data=np.array(x)\n",
    "\n",
    "    levy=np.zeros(SearchAgents_no)\n",
    "    \n",
    "    # initialize alpha, beta, and delta_pos\n",
    "    Alpha_pos=np.zeros((n_cluster,dim))\n",
    "    Alpha_score=float(\"inf\")\n",
    "    \n",
    "    Beta_pos=np.zeros((n_cluster,dim))\n",
    "    Beta_score=float(\"inf\")\n",
    "    \n",
    "    Delta_pos=np.zeros((n_cluster,dim))\n",
    "    Delta_score=float(\"inf\")\n",
    "    \n",
    "    #Initialize the positions of search agents\n",
    "    Positions=init_pop(SearchAgents_no,n_cluster,dim)\n",
    "    \n",
    "    Convergence_curve=numpy.zeros(Max_iter)\n",
    "    sol=solution()\n",
    "\n",
    "    # Loop counter\n",
    "    #print(\"GWO is optimizing  \\\"\"+objf.__name__+\"\\\"\")    \n",
    "    \n",
    "    timerStart=time.time() \n",
    "    sol.startTime=time.strftime(\"%Y-%m-%d-%H-%M-%S\")\n",
    "    \n",
    "    \n",
    "    #sol=solution()\n",
    "\n",
    "    # Loop counter\n",
    "    #print(\"GWO is optimizing  \\\"\"+objf.__name__+\"\\\"\")    \n",
    "    \n",
    "    #timerStart=time.time() \n",
    "    #sol.startTime=time.strftime(\"%Y-%m-%d-%H-%M-%S\")\n",
    "    # Main loop\n",
    "    for l in range(0,Max_iter):\n",
    "        for i in range(0,SearchAgents_no):\n",
    "            \n",
    "            # Return back the search agents that go beyond the boundaries of the search space\n",
    "            #Positions[i,:]=numpy.clip(Positions[i,:], lb, ub)\n",
    "\n",
    "            # Calculate objective function for each search agent\n",
    "            \n",
    "            current_centers=pd.DataFrame(Positions[i])\n",
    "            current_labels = assign_cluster_label(data,Positions[i])\n",
    "            current_centers.columns=['x','y','z','k']\n",
    "            fitness1=fitness(data,Positions,current_labels,i)\n",
    "            \n",
    "            # Update Alpha, Beta, and Delta\n",
    "            if fitness1<Alpha_score :\n",
    "                Alpha_score=fitness1; # Update alpha\n",
    "                Alpha_pos=Positions[i,:].copy()\n",
    "            \n",
    "            \n",
    "            if (fitness1>Alpha_score and fitness1<Beta_score ):\n",
    "                Beta_score=fitness1  # Update beta\n",
    "                Beta_pos=Positions[i,:].copy()\n",
    "            \n",
    "            \n",
    "            if (fitness1>Alpha_score and fitness1>Beta_score and fitness1<Delta_score): \n",
    "                Delta_score=fitness1 # Update delta\n",
    "                Delta_pos=Positions[i,:].copy()\n",
    "            \n",
    "        \n",
    "        #z=numpy.random.uniform()\n",
    "        #z=4*z*(1-z)\n",
    "        \n",
    "        \n",
    "        a=2-l*((2)/Max_iter); # a decreases linearly fron 2 to 0\n",
    "        \n",
    "        beta=0.5\n",
    "        sigma=(math.gamma(1+beta)*math.sin(math.pi*beta/2)/(math.gamma((1+beta)/2)*beta*2**((beta-1)/2)))**(1/beta);\n",
    "        \n",
    "        for i in range(0,SearchAgents_no):\n",
    "            for j in range (0,n_cluster):     \n",
    "                           \n",
    "                r1=random.random() # r1 is a random number in [0,1]\n",
    "                r2=random.random() # r2 is a random number in [0,1]\n",
    "                \n",
    "                A1=2*a*r1-a; # Equation (3.3)\n",
    "                C1=2*r2; # Equation (3.4)\n",
    "                \n",
    "                D_alpha=abs(C1*Alpha_pos[j]-Positions[i,j]); # Equation (3.5)-part 1\n",
    "                X1=Alpha_pos[j]-A1*D_alpha; # Equation (3.6)-part 1\n",
    "                           \n",
    "                r1=random.random()\n",
    "                r2=random.random()\n",
    "                \n",
    "                A2=2*a*r1-a; # Equation (3.3)\n",
    "                C2=2*r2; # Equation (3.4)\n",
    "                D_beta=abs(C2*Beta_pos[j]-Positions[i,j]); # Equation (3.5)-part 2\n",
    "                X2=Beta_pos[j]-A2*D_beta; # Equation (3.6)-part 2\n",
    "                \n",
    "                r1=random.random()\n",
    "                r2=random.random() \n",
    "                \n",
    "                A3=2*a*r1-a; # Equation (3.3)\n",
    "                C3=2*r2; # Equation (3.4)\n",
    "                \n",
    "                D_delta=abs(C3*Delta_pos[j]-Positions[i,j]); # Equation (3.5)-part 3\n",
    "                X3=Delta_pos[j]-A3*D_delta; # Equation (3.5)-part 3             \n",
    "                \n",
    "                Positions[i,j]=(X1+X2+X3)/3  # Equation (3.7)\n",
    "            \n",
    "            s=Positions[i,:]\n",
    "            \n",
    "            u=numpy.random.uniform(size=dim)*sigma\n",
    "            v=numpy.random.uniform(size=dim)\n",
    "            step=u*abs(v)**(1/beta)\n",
    "            stepsize=0.1*step*(s-Alpha_pos) #s-alpha_pos\n",
    "            s=s+stepsize*numpy.random.uniform(size=dim)\n",
    "            Positions[i]=s\n",
    "        Convergence_curve[l]=Alpha_score\n",
    "\n",
    "    timerEnd=time.time()  \n",
    "    sol.endTime=time.strftime(\"%Y-%m-%d-%H-%M-%S\")\n",
    "    sol.executionTime=timerEnd-timerStart\n",
    "    sol.convergence=Convergence_curve\n",
    "    sol.optimizer=\"GWO\"\n",
    "    \n",
    "    sol.no_of_iterations=l\n",
    "    \n",
    "    \n",
    "    \n",
    "    \n",
    "    print(Alpha_pos)\n",
    "    return Alpha_pos,current_labels,sol"
   ]
  },
  {
   "cell_type": "code",
   "execution_count": 104,
   "metadata": {},
   "outputs": [
    {
     "name": "stdout",
     "output_type": "stream",
     "text": [
      "[[6.06502689 2.75371149 4.26780817 1.10295464]\n",
      " [4.98496915 3.32886599 1.59564238 0.28406493]\n",
      " [6.50111838 3.89403278 5.29212561 2.18401965]]\n"
     ]
    }
   ],
   "source": [
    "egwo=GWO(Max_iter=100,SearchAgents_no=10,n_cluster=3,dim=4)"
   ]
  },
  {
   "cell_type": "code",
   "execution_count": 105,
   "metadata": {},
   "outputs": [],
   "source": [
    "current_centers=pd.DataFrame(egwo[0])"
   ]
  },
  {
   "cell_type": "code",
   "execution_count": 106,
   "metadata": {},
   "outputs": [],
   "source": [
    "current_centers.columns=['x','y','z','k']"
   ]
  },
  {
   "cell_type": "code",
   "execution_count": 107,
   "metadata": {},
   "outputs": [],
   "source": [
    "current_labels=egwo[1]"
   ]
  },
  {
   "cell_type": "code",
   "execution_count": 108,
   "metadata": {},
   "outputs": [],
   "source": [
    "data=np.array(x)\n",
    "data_df = pd.DataFrame(data)\n",
    "data_df.columns=['x','y','z','k']"
   ]
  },
  {
   "cell_type": "code",
   "execution_count": 109,
   "metadata": {},
   "outputs": [
    {
     "data": {
      "text/plain": [
       "Text(0.5, 0, 'y')"
      ]
     },
     "execution_count": 109,
     "metadata": {},
     "output_type": "execute_result"
    },
    {
     "data": {
      "image/png": "[encoded data removed]",
      "text/plain": [
       "<Figure size 432x288 with 1 Axes>"
      ]
     },
     "metadata": {
      "needs_background": "light"
     },
     "output_type": "display_data"
    }
   ],
   "source": [
    "import matplotlib.pyplot as plt\n",
    "plt.scatter(x='z',y='k',c=current_labels,data=data_df)\n",
    "#plt.scatter(x='z',y='k',data=current_centers,c=['purple','blue','yellow'],marker='*', s=200)\n",
    "plt.xlabel(\"x\")\n",
    "plt.xlabel(\"y\")"
   ]
  },
  {
   "cell_type": "code",
   "execution_count": 110,
   "metadata": {},
   "outputs": [],
   "source": [
    "x1=[]\n",
    "for i in range(100):\n",
    "    x1.append(i)"
   ]
  },
  {
   "cell_type": "code",
   "execution_count": 111,
   "metadata": {},
   "outputs": [
    {
     "data": {
      "image/png": "[encoded data removed]",
      "text/plain": [
       "<Figure size 432x288 with 1 Axes>"
      ]
     },
     "metadata": {
      "needs_background": "light"
     },
     "output_type": "display_data"
    }
   ],
   "source": [
    "plt.plot(x1,egwo[2].convergence,color=\"blue\")\n",
    "plt.xlabel(\"No. of iterations\")\n",
    "plt.ylabel(\"Fitness\")\n",
    "plt.savefig(\"enhanced_F1.png\")\n",
    "plt.show()"
   ]
  },
  {
   "cell_type": "code",
   "execution_count": 112,
   "metadata": {},
   "outputs": [
    {
     "name": "stdout",
     "output_type": "stream",
     "text": [
      "0.7294203486015404\n"
     ]
    }
   ],
   "source": [
    "from sklearn import metrics\n",
    "print(metrics.adjusted_rand_score(iris.target, current_labels))"
   ]
  },
  {
   "cell_type": "code",
   "execution_count": null,
   "metadata": {},
   "outputs": [],
   "source": []
  }
 ],
 "metadata": {
  "kernelspec": {
   "display_name": "Python 3",
   "language": "python",
   "name": "python3"
  },
  "language_info": {
   "codemirror_mode": {
    "name": "ipython",
    "version": 3
   },
   "file_extension": ".py",
   "mimetype": "text/x-python",
   "name": "python",
   "nbconvert_exporter": "python",
   "pygments_lexer": "ipython3",
   "version": "3.7.4"
  }
 },
 "nbformat": 4,
 "nbformat_minor": 2
}
